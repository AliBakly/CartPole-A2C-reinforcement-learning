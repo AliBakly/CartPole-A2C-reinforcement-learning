{
 "cells": [
  {
   "cell_type": "code",
   "execution_count": null,
   "metadata": {},
   "outputs": [],
   "source": [
    "import gymnasium as gym\n",
    "import torch\n",
    "import torch.nn as nn\n",
    "import torch.nn.functional as F\n",
    "import numpy as np\n",
    "import matplotlib.pyplot as plt\n",
    "from train import *\n",
    "import json\n",
    "import os\n",
    "\n",
    "\n",
    "%load_ext autoreload\n",
    "%autoreload 2"
   ]
  },
  {
   "cell_type": "code",
   "execution_count": null,
   "metadata": {},
   "outputs": [],
   "source": [
    "device = torch.device(\"cuda\" if torch.cuda.is_available() else \"cpu\")\n",
    "print(f\"Using device: {device}\")"
   ]
  },
  {
   "cell_type": "code",
   "execution_count": null,
   "metadata": {},
   "outputs": [],
   "source": [
    "# Ali\n",
    "lr_actor=1e-5\n",
    "lr_critic=1e-3\n",
    "gamma=0.99\n",
    "K=1\n",
    "n=1\n",
    "env_name='CartPole-v1'\n",
    "continous=False\n",
    "log_interval=1000\n",
    "eval_interval=20000\n",
    "num_eval_episodes=10\n",
    "max_steps=500000\n",
    "prob_mask=1\n",
    "\n",
    "\n",
    "dict_lists = train(lr_actor, lr_critic, gamma, K, n, env_name, continous, log_interval, eval_interval,\n",
    "              num_eval_episodes, max_steps, prob_mask, record_video=\"K=1-n=1-disc\", seeds=[420, 69, 1337])\n",
    "\n",
    "with open('./lists/agent1/values.json', 'w') as f:\n",
    "    json.dump(dict_lists, f)"
   ]
  },
  {
   "cell_type": "code",
   "execution_count": null,
   "metadata": {},
   "outputs": [],
   "source": [
    "# Ali\n",
    "lr_actor=1e-5\n",
    "lr_critic=1e-3\n",
    "gamma=0.99\n",
    "K=1\n",
    "n=1\n",
    "env_name='CartPole-v1'\n",
    "continous=False\n",
    "log_interval=1000\n",
    "eval_interval=20000\n",
    "num_eval_episodes=10\n",
    "max_steps=500000\n",
    "prob_mask=0.1\n",
    "\n",
    "dict_lists = train(lr_actor, lr_critic, gamma, K, n, env_name, continous, log_interval, eval_interval,\n",
    "             num_eval_episodes, max_steps, prob_mask, record_video=\"K=1-n=1-disc-mask\" ,seeds=[420, 69, 1337])\n",
    "\n",
    "with open('./lists/stoch/values.json', 'w') as f:\n",
    "    json.dump(dict_lists, f)"
   ]
  },
  {
   "cell_type": "code",
   "execution_count": null,
   "metadata": {},
   "outputs": [],
   "source": [
    "# Ali\n",
    "lr_actor=1e-5\n",
    "lr_critic=1e-3\n",
    "gamma=0.99\n",
    "K=6\n",
    "n=1\n",
    "env_name='CartPole-v1'\n",
    "continous=False\n",
    "log_interval=1000\n",
    "eval_interval=20000\n",
    "num_eval_episodes=10\n",
    "max_steps=500000\n",
    "prob_mask=0.1\n",
    "\n",
    "dict_lists = train(lr_actor, lr_critic, gamma, K, n, env_name, continous, log_interval, eval_interval,\n",
    "              num_eval_episodes, max_steps, prob_mask, record_video=\"K=6-n=1-disc-prob\", seeds=[420, 69, 1337])\n",
    "\n",
    "with open('./lists/agent2/values.json', 'w') as f:\n",
    "    json.dump(dict_lists, f)"
   ]
  },
  {
   "cell_type": "code",
   "execution_count": null,
   "metadata": {},
   "outputs": [],
   "source": [
    "# ALi\n",
    "lr_actor=1e-5\n",
    "lr_critic=1e-3\n",
    "gamma=0.99\n",
    "K=1\n",
    "n=6\n",
    "env_name='CartPole-v1'\n",
    "continous=False\n",
    "log_interval=1000\n",
    "eval_interval=20000\n",
    "num_eval_episodes=10\n",
    "max_steps=500000\n",
    "prob_mask=0.1\n",
    "\n",
    "dict_lists = train(lr_actor, lr_critic, gamma, K, n, env_name, continous, log_interval, eval_interval, num_eval_episodes,\n",
    "      max_steps, prob_mask, record_video=\"K=6-n=6-disc-prob\", seeds = [420, 69, 1337]) \n",
    "\n",
    "with open('./lists/agent3/values.json', 'w') as f:\n",
    "    json.dump(dict_lists, f)"
   ]
  },
  {
   "cell_type": "code",
   "execution_count": null,
   "metadata": {},
   "outputs": [],
   "source": [
    "# Elias\n",
    "lr_actor=1e-5\n",
    "lr_critic=1e-3\n",
    "gamma=0.99\n",
    "K=6\n",
    "n=6\n",
    "env_name='CartPole-v1'\n",
    "continous=False\n",
    "log_interval=1000\n",
    "eval_interval=20000\n",
    "num_eval_episodes=10\n",
    "max_steps=500000\n",
    "prob_mask=0.1\n",
    "\n",
    "dict_lists = train(lr_actor, lr_critic, gamma, K, n, env_name, continous, log_interval, eval_interval, num_eval_episodes,\n",
    "      max_steps, prob_mask, record_video=\"K=6-n=6-disc-prob\", seeds = [420, 69, 1337]) \n",
    "\n",
    "with open('./lists/agent4/values.json', 'w') as f:\n",
    "    json.dump(dict_lists, f)"
   ]
  },
  {
   "cell_type": "code",
   "execution_count": null,
   "metadata": {},
   "outputs": [],
   "source": [
    "# Elias\n",
    "lr_actor=1e-5\n",
    "lr_critic=1e-3\n",
    "gamma=0.99\n",
    "K=1\n",
    "n=1\n",
    "env_name='InvertedPendulum-v4'\n",
    "continous=True\n",
    "log_interval=1000\n",
    "eval_interval=20000\n",
    "num_eval_episodes=10\n",
    "max_steps=500000\n",
    "prob_mask=0.1\n",
    "dict_lists =train(lr_actor, lr_critic, gamma, K, n, env_name, continous, log_interval, eval_interval, num_eval_episodes, max_steps, prob_mask, record_video=\"K=1-n=1-cont-prob\", seeds=[420, 69, 1337])\n",
    "\n",
    "with open('./lists/agent5/values.json', 'w') as f:\n",
    "    json.dump(dict_lists, f)"
   ]
  },
  {
   "cell_type": "code",
   "execution_count": null,
   "metadata": {},
   "outputs": [],
   "source": [
    "# ELias\n",
    "lr_actor=3e-4\n",
    "lr_critic=1e-3\n",
    "gamma=0.99\n",
    "K=6\n",
    "n=6\n",
    "env_name='InvertedPendulum-v4'\n",
    "continous=True\n",
    "log_interval=1000\n",
    "eval_interval=20000\n",
    "num_eval_episodes=10\n",
    "max_steps=500000\n",
    "prob_mask=0.1\n",
    "dict_lists=train(lr_actor, lr_critic, gamma, K, n, env_name, continous, log_interval, eval_interval, num_eval_episodes, max_steps, prob_mask, record_video=\"K=6-n=6-cont-prob-lr\", seeds=[420, 69, 1337])\n",
    "\n",
    "with open('./lists/agent6/values.json', 'w') as f:\n",
    "    json.dump(dict_lists, f)"
   ]
  },
  {
   "cell_type": "code",
   "execution_count": null,
   "metadata": {},
   "outputs": [],
   "source": [
    "all_agents_dicts = {f: json.load(open(\"./lists/\" + f + \"/values.json\")) for f in os.listdir(\"./lists\")}\n"
   ]
  },
  {
   "cell_type": "code",
   "execution_count": null,
   "metadata": {},
   "outputs": [],
   "source": [
    "### Plot firt Value function trajectory\n",
    "\n",
    "first_trajects =[]\n",
    "middle_trajects = []\n",
    "last_trajects = []\n",
    "names = []\n",
    "for k,v in all_agents_dicts.items():\n",
    "    trajectory = v[\"value_trajectories_all\"]\n",
    "    names.append(k)\n",
    "    first_trajects.append(trajectory[0])\n",
    "    middle_trajects.append(trajectory[len(trajectory)//2])\n",
    "    last_trajects.append(trajectory[-1])\n",
    "\n",
    "for trajectory, name in zip(first_trajects, names):\n",
    "    plt.plot(trajectory, label = name)\n",
    "    \n",
    "plt.xlabel('Time Step')\n",
    "plt.ylabel('Value Function')\n",
    "plt.title('Value Function on Sampled Trajectory after 20k Steps')    \n",
    "plt.legend()\n",
    "plt.show()\n",
    "\n",
    "for trajectory, name in zip(middle_trajects, names):\n",
    "    plt.plot(trajectory, label = name)\n",
    "    \n",
    "plt.xlabel('Time Step')\n",
    "plt.ylabel('Value Function')\n",
    "plt.title('Value Function on Sampled Trajectory after 250k Steps')    \n",
    "plt.legend()\n",
    "plt.show()\n",
    "\n",
    "for trajectory, name in zip(last_trajects, names):\n",
    "    plt.plot(trajectory, label = name)\n",
    "    \n",
    "plt.xlabel('Time Step')\n",
    "plt.ylabel('Value Function')\n",
    "plt.title('Value Function on Sampled Trajectory after 500k Steps')    \n",
    "plt.legend()\n",
    "plt.show()\n",
    "\n"
   ]
  },
  {
   "cell_type": "code",
   "execution_count": null,
   "metadata": {},
   "outputs": [],
   "source": [
    "for k,v in all_agents_dicts.items():\n",
    "    mean = v[\"mean_log_returns_all\"]\n",
    "    min = v[\"min_log_returns_all\"]\n",
    "    max = v[\"max_log_returns_all\"]\n",
    "    range_step = 100\n",
    "    plt.plot(range(range_step,range_step*len(mean) + range_step, range_step), mean, label= k + ' Mean')\n",
    "    plt.fill_between(range(range_step,range_step*len(mean) + range_step, range_step), min, max, alpha=0.15, label='Min/Max')\n",
    "    plt.legend(prop={'size': 6})"
   ]
  },
  {
   "cell_type": "code",
   "execution_count": null,
   "metadata": {},
   "outputs": [],
   "source": [
    "a = [[[1,2,3] , [1, 2, 3]], [[1,2,3] , [1, 2, 3]]]\n",
    "print([x for sublist1 in a for sublist2 in sublist1 for x in sublist2])"
   ]
  },
  {
   "cell_type": "code",
   "execution_count": null,
   "metadata": {},
   "outputs": [],
   "source": [
    "import time as time\n",
    "t1 = time.time()\n",
    "for i in range(500000):\n",
    "    mask = np.random.binomial(1, prob_mask)\n",
    "t2 = time.time()\n",
    "print(t2-t1)\n",
    "\n"
   ]
  },
  {
   "cell_type": "code",
   "execution_count": null,
   "metadata": {},
   "outputs": [],
   "source": []
  }
 ],
 "metadata": {
  "kernelspec": {
   "display_name": "AIRL",
   "language": "python",
   "name": "airl"
  },
  "language_info": {
   "codemirror_mode": {
    "name": "ipython",
    "version": 3
   },
   "file_extension": ".py",
   "mimetype": "text/x-python",
   "name": "python",
   "nbconvert_exporter": "python",
   "pygments_lexer": "ipython3",
   "version": "3.10.13"
  }
 },
 "nbformat": 4,
 "nbformat_minor": 2
}
